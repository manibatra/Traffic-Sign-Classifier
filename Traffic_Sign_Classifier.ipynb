{
 "cells": [
  {
   "cell_type": "markdown",
   "metadata": {},
   "source": [
    "# Self-Driving Car Engineer Nanodegree\n",
    "\n",
    "## Deep Learning\n",
    "\n",
    "## Project: Build a Traffic Sign Recognition Classifier\n",
    "\n",
    "In this notebook, a template is provided for you to implement your functionality in stages, which is required to successfully complete this project. If additional code is required that cannot be included in the notebook, be sure that the Python code is successfully imported and included in your submission if necessary. \n",
    "\n",
    "> **Note**: Once you have completed all of the code implementations, you need to finalize your work by exporting the iPython Notebook as an HTML document. Before exporting the notebook to html, all of the code cells need to have been run so that reviewers can see the final implementation and output. You can then export the notebook by using the menu above and navigating to  \\n\",\n",
    "    \"**File -> Download as -> HTML (.html)**. Include the finished document along with this notebook as your submission. \n",
    "\n",
    "In addition to implementing code, there is a writeup to complete. The writeup should be completed in a separate file, which can be either a markdown file or a pdf document. There is a [write up template](https://github.com/udacity/CarND-Traffic-Sign-Classifier-Project/blob/master/writeup_template.md) that can be used to guide the writing process. Completing the code template and writeup template will cover all of the [rubric points](https://review.udacity.com/#!/rubrics/481/view) for this project.\n",
    "\n",
    "The [rubric](https://review.udacity.com/#!/rubrics/481/view) contains \"Stand Out Suggestions\" for enhancing the project beyond the minimum requirements. The stand out suggestions are optional. If you decide to pursue the \"stand out suggestions\", you can include the code in this Ipython notebook and also discuss the results in the writeup file.\n",
    "\n",
    "\n",
    ">**Note:** Code and Markdown cells can be executed using the **Shift + Enter** keyboard shortcut. In addition, Markdown cells can be edited by typically double-clicking the cell to enter edit mode."
   ]
  },
  {
   "cell_type": "markdown",
   "metadata": {},
   "source": [
    "---\n",
    "## Step 0: Load The Data"
   ]
  },
  {
   "cell_type": "code",
   "execution_count": 1,
   "metadata": {
    "collapsed": true
   },
   "outputs": [],
   "source": [
    "# Load pickled data\n",
    "import pickle\n",
    "\n",
    "# TODO: Fill this in based on where you saved the training and testing data\n",
    "\n",
    "training_file = \"traffic-signs-data/train.p\"\n",
    "validation_file=\"traffic-signs-data/valid.p\"\n",
    "testing_file = \"traffic-signs-data/test.p\"\n",
    "\n",
    "with open(training_file, mode='rb') as f:\n",
    "    train = pickle.load(f)\n",
    "with open(validation_file, mode='rb') as f:\n",
    "    valid = pickle.load(f)\n",
    "with open(testing_file, mode='rb') as f:\n",
    "    test = pickle.load(f)\n",
    "    \n",
    "X_train, y_train = train['features'], train['labels']\n",
    "X_valid, y_valid = valid['features'], valid['labels']\n",
    "X_test, y_test = test['features'], test['labels']"
   ]
  },
  {
   "cell_type": "markdown",
   "metadata": {},
   "source": [
    "---\n",
    "\n",
    "## Step 1: Dataset Summary & Exploration\n",
    "\n",
    "The pickled data is a dictionary with 4 key/value pairs:\n",
    "\n",
    "- `'features'` is a 4D array containing raw pixel data of the traffic sign images, (num examples, width, height, channels).\n",
    "- `'labels'` is a 1D array containing the label/class id of the traffic sign. The file `signnames.csv` contains id -> name mappings for each id.\n",
    "- `'sizes'` is a list containing tuples, (width, height) representing the original width and height the image.\n",
    "- `'coords'` is a list containing tuples, (x1, y1, x2, y2) representing coordinates of a bounding box around the sign in the image. **THESE COORDINATES ASSUME THE ORIGINAL IMAGE. THE PICKLED DATA CONTAINS RESIZED VERSIONS (32 by 32) OF THESE IMAGES**\n",
    "\n",
    "Complete the basic data summary below. Use python, numpy and/or pandas methods to calculate the data summary rather than hard coding the results. For example, the [pandas shape method](http://pandas.pydata.org/pandas-docs/stable/generated/pandas.DataFrame.shape.html) might be useful for calculating some of the summary results. "
   ]
  },
  {
   "cell_type": "markdown",
   "metadata": {},
   "source": [
    "### Provide a Basic Summary of the Data Set Using Python, Numpy and/or Pandas"
   ]
  },
  {
   "cell_type": "code",
   "execution_count": 2,
   "metadata": {},
   "outputs": [
    {
     "name": "stdout",
     "output_type": "stream",
     "text": [
      "Number of training examples = 34799\n",
      "Number of testing examples = 12630\n",
      "Image data shape = (32, 32, 3)\n",
      "Number of classes = 43\n"
     ]
    }
   ],
   "source": [
    "### Replace each question mark with the appropriate value. \n",
    "### Use python, pandas or numpy methods rather than hard coding the results\n",
    "import numpy as np\n",
    "\n",
    "# TODO: Number of training examples\n",
    "n_train = len(X_train)\n",
    "\n",
    "# TODO: Number of validation examples\n",
    "n_validation = len(X_valid)\n",
    "\n",
    "# TODO: Number of testing examples.\n",
    "n_test = len(X_test)\n",
    "\n",
    "# TODO: What's the shape of an traffic sign image?\n",
    "image_shape = X_train[0].shape\n",
    "\n",
    "# TODO: How many unique classes/labels there are in the dataset.\n",
    "n_classes = len(np.unique(y_train))\n",
    "\n",
    "print(\"Number of training examples =\", n_train)\n",
    "print(\"Number of testing examples =\", n_test)\n",
    "print(\"Image data shape =\", image_shape)\n",
    "print(\"Number of classes =\", n_classes)"
   ]
  },
  {
   "cell_type": "markdown",
   "metadata": {},
   "source": [
    "### Include an exploratory visualization of the dataset"
   ]
  },
  {
   "cell_type": "markdown",
   "metadata": {},
   "source": [
    "\n",
    "Visualize the German Traffic Signs Dataset using the pickled file(s). This is open ended, suggestions include: plotting traffic sign images, plotting the count of each sign, etc. \n",
    "\n",
    "The [Matplotlib](http://matplotlib.org/) [examples](http://matplotlib.org/examples/index.html) and [gallery](http://matplotlib.org/gallery.html) pages are a great resource for doing visualizations in Python.\n",
    "\n",
    "**NOTE:** It's recommended you start with something simple first. If you wish to do more, come back to it after you've completed the rest of the sections. It can be interesting to look at the distribution of classes in the training, validation and test set. Is the distribution the same? Are there more examples of some classes than others?"
   ]
  },
  {
   "cell_type": "code",
   "execution_count": 3,
   "metadata": {},
   "outputs": [
    {
     "name": "stdout",
     "output_type": "stream",
     "text": [
      "(32, 32, 3)\n",
      "32\n"
     ]
    },
    {
     "data": {
      "image/png": "[encoded data removed]",
      "text/plain": [
       "<matplotlib.figure.Figure at 0x7f59880334a8>"
      ]
     },
     "metadata": {},
     "output_type": "display_data"
    }
   ],
   "source": [
    "### Data exploration visualization code goes here.\n",
    "### Feel free to use as many code cells as needed.\n",
    "import random\n",
    "import matplotlib.pyplot as plt\n",
    "# Visualizations will be shown in the notebook.\n",
    "%matplotlib inline\n",
    "\n",
    "index = random.randint(0, len(X_train))\n",
    "image= X_train[index].squeeze()\n",
    "\n",
    "# (h, w) = image.shape[:2]\n",
    "# center = (w / 2, h / 2)\n",
    "\n",
    "# M = cv2.getRotationMatrix2D(center, 180, 1.0)\n",
    "# rotated = cv2.warpAffine(image, M, (w, h))\n",
    "# resizd = cv2.resize(image, (0,0), fx=1.1, fy=1.1)\n",
    "# plt.figure(figsize=(1,1))\n",
    "plt.imshow(image, cmap=\"gray\")\n",
    "print(image.shape)\n",
    "print(y_train[index])"
   ]
  },
  {
   "cell_type": "markdown",
   "metadata": {},
   "source": [
    "----\n",
    "\n",
    "## Step 2: Design and Test a Model Architecture\n",
    "\n",
    "Design and implement a deep learning model that learns to recognize traffic signs. Train and test your model on the [German Traffic Sign Dataset](http://benchmark.ini.rub.de/?section=gtsrb&subsection=dataset).\n",
    "\n",
    "The LeNet-5 implementation shown in the [classroom](https://classroom.udacity.com/nanodegrees/nd013/parts/fbf77062-5703-404e-b60c-95b78b2f3f9e/modules/6df7ae49-c61c-4bb2-a23e-6527e69209ec/lessons/601ae704-1035-4287-8b11-e2c2716217ad/concepts/d4aca031-508f-4e0b-b493-e7b706120f81) at the end of the CNN lesson is a solid starting point. You'll have to change the number of classes and possibly the preprocessing, but aside from that it's plug and play! \n",
    "\n",
    "With the LeNet-5 solution from the lecture, you should expect a validation set accuracy of about 0.89. To meet specifications, the validation set accuracy will need to be at least 0.93. It is possible to get an even higher accuracy, but 0.93 is the minimum for a successful project submission. \n",
    "\n",
    "There are various aspects to consider when thinking about this problem:\n",
    "\n",
    "- Neural network architecture (is the network over or underfitting?)\n",
    "- Play around preprocessing techniques (normalization, rgb to grayscale, etc)\n",
    "- Number of examples per label (some have more than others).\n",
    "- Generate fake data.\n",
    "\n",
    "Here is an example of a [published baseline model on this problem](http://yann.lecun.com/exdb/publis/pdf/sermanet-ijcnn-11.pdf). It's not required to be familiar with the approach used in the paper but, it's good practice to try to read papers like these."
   ]
  },
  {
   "cell_type": "markdown",
   "metadata": {},
   "source": [
    "### Pre-process the Data Set (normalization, grayscale, etc.)"
   ]
  },
  {
   "cell_type": "markdown",
   "metadata": {},
   "source": [
    "Minimally, the image data should be normalized so that the data has mean zero and equal variance. For image data, `(pixel - 128)/ 128` is a quick way to approximately normalize the data and can be used in this project. \n",
    "\n",
    "Other pre-processing steps are optional. You can try different techniques to see if it improves performance. \n",
    "\n",
    "Use the code cell (or multiple code cells, if necessary) to implement the first step of your project."
   ]
  },
  {
   "cell_type": "code",
   "execution_count": 4,
   "metadata": {
    "collapsed": true
   },
   "outputs": [],
   "source": [
    "#helper functions\n",
    "#convert images to singlechannel:\n",
    "def single_channel(images, mode):\n",
    "    #convert either to gray or y channel images\n",
    "    c1_images = np.empty([len(images), 32, 32, 1])\n",
    "    for i in range(len(images)):\n",
    "        if mode == 'Y':\n",
    "            c1, c2, c3 = cv2.split(cv2.cvtColor(images[i], cv2.COLOR_RGB2YUV))\n",
    "        elif mode == 'G':\n",
    "            c1 = cv2.cvtColor(images[i], cv2.COLOR_RGB2GRAY)\n",
    "        c1_images[i] = np.expand_dims(c1, axis=3)\n",
    "    return c1_images\n",
    "\n",
    "#add noise to the images\n",
    "def add_jitter(images):\n",
    "    jitter_images = np.empty(images.shape)\n",
    "    for i in range(len(images)):\n",
    "        img = images[i]\n",
    "        h, w, c = img.shape\n",
    "        noise = np.random.randint(-2, 2, (h, w))\n",
    "        jitter = np.zeros_like(img)\n",
    "        jitter[:, :, 0] = noise\n",
    "        noise_added = np.expand_dims(cv2.add(img, jitter), axis=3)\n",
    "        jitter_images[i] = noise_added\n",
    "    return jitter_images\n",
    "\n",
    "#rotate the images\n",
    "def rotate(images):\n",
    "     #rotate the image between a random angle of [-15, 15] deg\n",
    "    rotated_images = np.empty(images.shape)\n",
    "    for i in range(len(images)):\n",
    "        (h, w) = images[i].shape[:2]\n",
    "        center = (w / 2, h / 2)\n",
    "        rand_angle = random.uniform(-15.0, 15.0)\n",
    "        M = cv2.getRotationMatrix2D(center, rand_angle, 1.0)\n",
    "        rotated_image = np.expand_dims(cv2.warpAffine(images[i], M, (w, h)), axis=3)\n",
    "        #print(rotated_image.shape)\n",
    "        rotated_images[i] = rotated_image\n",
    "    return rotated_images\n",
    "\n",
    "#concatenate the images together\n",
    "def concatenate_images(c1_images, jitter_images, rotated_images, labels):\n",
    "    X_train_final = np.empty([len(c1_images)*3, 32, 32, 1])\n",
    "    for i in range(len(X_train)):\n",
    "        X_train_final[i] = c1_images[i]\n",
    "        X_train_final[i + len(c1_images)] = jitter_images[i]\n",
    "        X_train_final[i + len(c1_images)*2] = rotated_images[i]\n",
    "\n",
    "    #concatenate the labels together\n",
    "    print(labels.shape)\n",
    "    labels_length = len(labels)\n",
    "    y_train_final = np.empty([labels_length*3],)\n",
    "    \n",
    "    for i in range(labels_length):\n",
    "        y_train_final[i] = labels[i]\n",
    "        y_train_final[i + labels_length] = labels[i]\n",
    "        y_train_final[i + labels_length*2] = labels[i]\n",
    "        \n",
    "    return X_train_final, y_train_final\n"
   ]
  },
  {
   "cell_type": "code",
   "execution_count": 5,
   "metadata": {
    "collapsed": true
   },
   "outputs": [],
   "source": [
    "import cv2\n",
    "from skimage import exposure\n",
    "def pipeline(images, labels, mode):\n",
    "    \"\"\"\n",
    "    Preprocess the image by passing it through the pipeline\n",
    "    :param images: The initial images to be processed\n",
    "    :param labels: The respective labels of the images\n",
    "    :param mode: Y = Y channel from the YUV spectrum | G = Grayscale\n",
    "    :param augment: 1 = augment the data | 0 = don't augment the data\n",
    "    :return: Preprocessed and concatenated images, concatednated labels\n",
    "    \"\"\"\n",
    "    c1_images = single_channel(images, mode)\n",
    "    print(c1_images.shape)\n",
    "    #add noise to the image\n",
    "    jitter_images = add_jitter(c1_images)\n",
    "\n",
    "    #rotate the images\n",
    "    rotated_images = rotate(c1_images)\n",
    "    print(rotated_images.shape)\n",
    "    #concatenate the images\n",
    "    X_train_final, y_train_final = concatenate_images(c1_images,\n",
    "                                                     jitter_images,\n",
    "                                                     rotated_images,\n",
    "                                                     labels)\n",
    "    return X_train_final, y_train_final\n",
    "\n",
    "\n",
    "### Normalise the image data\n",
    "def normalize(image_data):\n",
    "    \"\"\"\n",
    "    Normalize the image data with Min-Max scaling to a range of [0.1, 0.9]\n",
    "    :param image_data: The image data to be normalized\n",
    "    :return: Normalized image data\n",
    "    \"\"\"\n",
    "    normalized_data = []\n",
    "    \n",
    "    for i in range(len(image_data)):\n",
    "#         normalized_data.append((image_data[i]- 128)/128)\n",
    "        normalized_data.append(exposure.equalize_hist(image_data[i]))\n",
    "        #normalized_data.append(0.1 + image_data[i] * (0.9 - 0.1)/255.0)\n",
    "    return normalized_data"
   ]
  },
  {
   "cell_type": "code",
   "execution_count": 6,
   "metadata": {
    "collapsed": true
   },
   "outputs": [],
   "source": [
    "X_train_final= single_channel(X_train, 'Y')\n",
    "X_valid_final = single_channel(X_valid, 'Y')\n",
    "X_test_final = single_channel(X_test, 'Y')"
   ]
  },
  {
   "cell_type": "code",
   "execution_count": 7,
   "metadata": {},
   "outputs": [
    {
     "data": {
      "text/plain": [
       "(34799, 32, 32, 1)"
      ]
     },
     "execution_count": 7,
     "metadata": {},
     "output_type": "execute_result"
    }
   ],
   "source": [
    "X_train_final.shape"
   ]
  },
  {
   "cell_type": "code",
   "execution_count": 8,
   "metadata": {},
   "outputs": [
    {
     "name": "stderr",
     "output_type": "stream",
     "text": [
      "Using TensorFlow backend.\n"
     ]
    }
   ],
   "source": [
    "\n",
    "from keras.preprocessing.image import ImageDataGenerator"
   ]
  },
  {
   "cell_type": "code",
   "execution_count": 9,
   "metadata": {
    "collapsed": true
   },
   "outputs": [],
   "source": [
    "def augment_data(x_train, y_train):\n",
    "        datagen = ImageDataGenerator(\n",
    "        featurewise_center=False,\n",
    "        featurewise_std_normalization=False,\n",
    "        rotation_range=15,\n",
    "        width_shift_range=0.2,\n",
    "        height_shift_range=0.2,\n",
    "        zoom_range=0.2,\n",
    "        shear_range=0.2,\n",
    "        horizontal_flip=False,\n",
    "        vertical_flip=False)\n",
    "        augmented_images = []\n",
    "        augmented_labels = []\n",
    "        datagen.fit(x_train)\n",
    "        batch = 0\n",
    "        for x_batch, y_batch in datagen.flow(x_train, y_train, batch_size=len(x_train)):\n",
    "            augmented_images.append(x_batch)\n",
    "            augmented_labels.append(y_batch)\n",
    "            batch += 1\n",
    "            if batch == 10:\n",
    "                break\n",
    "        return augmented_images, augmented_labels"
   ]
  },
  {
   "cell_type": "code",
   "execution_count": 10,
   "metadata": {
    "collapsed": true
   },
   "outputs": [],
   "source": [
    "augmented_images, augmented_labels = augment_data(X_train_final, y_train)"
   ]
  },
  {
   "cell_type": "code",
   "execution_count": 11,
   "metadata": {},
   "outputs": [
    {
     "data": {
      "text/plain": [
       "10"
      ]
     },
     "execution_count": 11,
     "metadata": {},
     "output_type": "execute_result"
    }
   ],
   "source": [
    "len(augmented_images)"
   ]
  },
  {
   "cell_type": "code",
   "execution_count": 12,
   "metadata": {
    "collapsed": true
   },
   "outputs": [],
   "source": [
    "def concatenate(train_images, augmented_images, train_labels, augmented_labels):\n",
    "    org_len = len(train_labels)\n",
    "    final_images = np.empty([org_len * (len(augmented_images) + 1),  32, 32, 1])\n",
    "    final_labels = np.empty([org_len * (len(augmented_images) + 1)])\n",
    "    for i in range(org_len):\n",
    "        final_images[i] = train_images[i]\n",
    "        final_labels[i] = train_labels[i]\n",
    "    for i in range(len(augmented_images)):\n",
    "        for j in range(org_len):\n",
    "            final_images[j + org_len * (i + 1)] = augmented_images[i][j]\n",
    "            final_labels[j + org_len * (i + 1)] = augmented_labels[i][j]\n",
    "    return final_images, final_labels"
   ]
  },
  {
   "cell_type": "code",
   "execution_count": 13,
   "metadata": {
    "collapsed": true
   },
   "outputs": [],
   "source": [
    "X_train_final, y_train_final = concatenate(X_train_final, augmented_images, y_train, augmented_labels)"
   ]
  },
  {
   "cell_type": "code",
   "execution_count": 14,
   "metadata": {},
   "outputs": [
    {
     "name": "stderr",
     "output_type": "stream",
     "text": [
      "/home/carnd/anaconda3/envs/carnd-term1/lib/python3.5/site-packages/skimage/exposure/exposure.py:63: UserWarning: This might be a color image. The histogram will be computed on the flattened image. You can instead apply this function to each color channel.\n",
      "  warn(\"This might be a color image. The histogram will be \"\n"
     ]
    }
   ],
   "source": [
    "X_train_final = normalize(X_train_final)\n",
    "X_valid_final = normalize(X_valid_final)\n",
    "X_test_final = normalize(X_test_final)"
   ]
  },
  {
   "cell_type": "code",
   "execution_count": null,
   "metadata": {
    "collapsed": true
   },
   "outputs": [],
   "source": [
    "X_train_final = global_contrast_normalization(X_train_final, 1, 10, 0.000000001)\n",
    "X_valid_final = global_contrast_normalization(X_valid_final, 1, 10, 0.000000001)\n",
    "X_test_final = global_contrast_normalization(X_test_final, 1, 10, 0.000000001)"
   ]
  },
  {
   "cell_type": "code",
   "execution_count": 15,
   "metadata": {},
   "outputs": [
    {
     "name": "stdout",
     "output_type": "stream",
     "text": [
      "(32, 32)\n",
      "10 2265\n"
     ]
    },
    {
     "data": {
      "image/png": "[encoded data removed]",
      "text/plain": [
       "<matplotlib.figure.Figure at 0x7f58fa0f4e48>"
      ]
     },
     "metadata": {},
     "output_type": "display_data"
    }
   ],
   "source": [
    "\n",
    "index = random.randint(0, len(X_valid_final))\n",
    "image= X_valid_final[index].squeeze()\n",
    "\n",
    "# (h, w) = image.shape[:2]\n",
    "# center = (w / 2, h / 2)\n",
    "\n",
    "# M = cv2.getRotationMatrix2D(center, 180, 1.0)\n",
    "# rotated = cv2.warpAffine(image, M, (w, h))\n",
    "# resizd = cv2.resize(image, (0,0), fx=1.1, fy=1.1)\n",
    "# plt.figure(figsize=(1,1))\n",
    "plt.imshow(image, cmap=\"gray\")\n",
    "print(image.shape)\n",
    "print(y_valid[index], index)"
   ]
  },
  {
   "cell_type": "code",
   "execution_count": 16,
   "metadata": {
    "collapsed": true
   },
   "outputs": [],
   "source": [
    "from sklearn.utils import shuffle\n",
    "\n",
    "X_train_final, y_train_final = shuffle(X_train_final,y_train_final)"
   ]
  },
  {
   "cell_type": "markdown",
   "metadata": {},
   "source": [
    "### Model Architecture"
   ]
  },
  {
   "cell_type": "code",
   "execution_count": 17,
   "metadata": {
    "collapsed": true
   },
   "outputs": [],
   "source": [
    "import tensorflow as tf\n",
    "#reduced the number of epochs from 30 to 20 as the validation accuracy peaks around 20\n",
    "#definitely overfitting with 30 epochs as test accuracy is less than validation accuracy\n",
    "EPOCHS = 40\n",
    "BATCH_SIZE = 256"
   ]
  },
  {
   "cell_type": "code",
   "execution_count": 18,
   "metadata": {
    "collapsed": true
   },
   "outputs": [],
   "source": [
    "#increased the number of features\n",
    "def get_weights_biases(mu, sigma):\n",
    "    weights = {\n",
    "        'wc1' : tf.Variable(tf.truncated_normal([5, 5, 1, 108], mu, sigma)),\n",
    "        'wc2' : tf.Variable(tf.truncated_normal([5, 5, 108, 108], mu, sigma)),\n",
    "        'wd1' : tf.Variable(tf.truncated_normal([7992, 1024], mu, sigma)),\n",
    "        'wd2' : tf.Variable(tf.truncated_normal([100, 50], mu, sigma)),\n",
    "        'out' : tf.Variable(tf.truncated_normal([1024, n_classes], mu, sigma))\n",
    "    }\n",
    "    \n",
    "    biases = {\n",
    "        'bc1' : tf.Variable(tf.zeros([108])),\n",
    "        'bc2' : tf.Variable(tf.zeros([108])),\n",
    "        'bd1' : tf.Variable(tf.zeros([1024])),\n",
    "        'bd2' : tf.Variable(tf.zeros([50])),\n",
    "        'out' : tf.Variable(tf.zeros([n_classes]))\n",
    "    }\n",
    "    \n",
    "    return weights, biases"
   ]
  },
  {
   "cell_type": "code",
   "execution_count": 19,
   "metadata": {
    "collapsed": true
   },
   "outputs": [],
   "source": [
    "def conv2d(x, W, b, s=1):\n",
    "    conv = tf.nn.conv2d(x, W, strides=[1, s, s, 1], padding='VALID')\n",
    "    conv = tf.nn.bias_add(conv, b)\n",
    "    return tf.nn.relu(conv)"
   ]
  },
  {
   "cell_type": "code",
   "execution_count": 20,
   "metadata": {
    "collapsed": true
   },
   "outputs": [],
   "source": [
    "def maxpooling2d(x, k=2):\n",
    "    conv = tf.nn.max_pool(x,\n",
    "                      ksize=[1, k, k, 1],\n",
    "                      strides=[1, k, k, 1],\n",
    "                      padding='VALID')\n",
    "    return conv"
   ]
  },
  {
   "cell_type": "code",
   "execution_count": 21,
   "metadata": {
    "collapsed": true
   },
   "outputs": [],
   "source": [
    "from tensorflow.contrib.layers import flatten\n",
    "\n",
    "def LeNet(x, keep_prob):\n",
    "    mu = 0\n",
    "    sigma = 0.1\n",
    "    W, b = get_weights_biases(mu, sigma)\n",
    "    #first layer\n",
    "    #Input = 32 x 32 x 1\n",
    "    #Output = 14 x 14 x 108\n",
    "    conv1 = conv2d(x, W['wc1'], b['bc1'])\n",
    "    conv1 = maxpooling2d(conv1)\n",
    "    print(\"1st layer shape : \", conv1.get_shape().as_list())\n",
    "\n",
    "\n",
    "    #second layer\n",
    "    #Input = 14 x 14 x 108\n",
    "    #Output = 7 x 7 x 108\n",
    "    conv1_subsample = maxpooling2d(conv1, k=2)\n",
    "    print(\"1st layer shape after subsample : \", conv1_subsample.get_shape().as_list())\n",
    "\n",
    "\n",
    "    #second layer\n",
    "    #Input = 14 x 14 x 108\n",
    "    #Output = 5 x 5 x 108\n",
    "    conv2 = conv2d(conv1, W['wc2'], b['bc2'])\n",
    "    conv2 = maxpooling2d(conv2)\n",
    "    print(\"2nd layer shape : \", conv2.get_shape().as_list())\n",
    "\n",
    "\n",
    "    #concatenated layer\n",
    "    #Output = 4 x 4 x 283\n",
    "    conv2_shape = conv2.get_shape().as_list()\n",
    "    conv2_reshaped = tf.reshape(conv2, [-1, conv2_shape[1] * conv2_shape[2] * conv2_shape[3]])\n",
    "    \n",
    "    conv1_subsample_shape = conv1_subsample.get_shape().as_list()\n",
    "    conv1_subsample_reshaped = tf.reshape(conv1_subsample, [-1,\n",
    "                            conv1_subsample_shape[1] * conv1_subsample_shape[2] * conv1_subsample_shape[3]])\n",
    "    concatenated_layer = tf.concat(1, [conv2_reshaped, conv1_subsample_reshaped])\n",
    "    \n",
    "    print(\"Concatenated layer shape : \", concatenated_layer.get_shape().as_list())\n",
    "    \n",
    "    \n",
    "#     #flatten\n",
    "#     #Input = 4 x 4 x 283\n",
    "#     #Output = 4528\n",
    "#     f_conv2 = flatten(concatenated_layer)\n",
    "#     print(\"Flatten layer shape : \", f_conv2.get_shape().as_list())\n",
    "\n",
    "\n",
    "    \n",
    "    #third layer\n",
    "    #Input = 4528\n",
    "    #Output = 120\n",
    "    fd1 = tf.add(tf.matmul(concatenated_layer, W['wd1']), b['bd1'])\n",
    "    fd1 = tf.nn.relu(fd1)\n",
    "    fd1 = tf.nn.dropout(fd1, keep_prob)\n",
    "    print(\"Third layer shape : \", fd1.get_shape().as_list())\n",
    "\n",
    "#     #fourth layer\n",
    "#     #Input = 120\n",
    "#     #Output = 84\n",
    "#     fd2 = tf.add(tf.matmul(fd1, W['wd2']), b['bd2'])\n",
    "#     fd2 = tf.nn.relu(fd2)\n",
    "#     fd2 = tf.nn.dropout(fd2, keep_prob)\n",
    "#     print(\"Fourth layer shape : \", fd2.get_shape().as_list())\n",
    "\n",
    "\n",
    "\n",
    "    #output layer\n",
    "    #Input = 84\n",
    "    #Output = n_classes\n",
    "    out = tf.add(tf.matmul(fd1, W['out']), b['out'])\n",
    "    \n",
    "    return out\n",
    "    "
   ]
  },
  {
   "cell_type": "markdown",
   "metadata": {},
   "source": [
    "### Train, Validate and Test the Model"
   ]
  },
  {
   "cell_type": "markdown",
   "metadata": {},
   "source": [
    "A validation set can be used to assess how well the model is performing. A low accuracy on the training and validation\n",
    "sets imply underfitting. A high accuracy on the training set but low accuracy on the validation set implies overfitting."
   ]
  },
  {
   "cell_type": "code",
   "execution_count": null,
   "metadata": {
    "collapsed": true
   },
   "outputs": [],
   "source": []
  },
  {
   "cell_type": "code",
   "execution_count": 22,
   "metadata": {
    "collapsed": true
   },
   "outputs": [],
   "source": [
    "x = tf.placeholder(tf.float32, (None, 32, 32, 1))\n",
    "y = tf.placeholder(tf.int32, (None))\n",
    "keep_prob = tf.placeholder(tf.float32)\n",
    "one_hot_y = tf.one_hot(y, n_classes)"
   ]
  },
  {
   "cell_type": "code",
   "execution_count": 23,
   "metadata": {},
   "outputs": [
    {
     "name": "stdout",
     "output_type": "stream",
     "text": [
      "1st layer shape :  [None, 14, 14, 108]\n",
      "1st layer shape after subsample :  [None, 7, 7, 108]\n",
      "2nd layer shape :  [None, 5, 5, 108]\n",
      "Concatenated layer shape :  [None, 7992]\n",
      "Third layer shape :  [None, 1024]\n"
     ]
    }
   ],
   "source": [
    "rate = 0.0001\n",
    "\n",
    "logits = LeNet(x, keep_prob)\n",
    "\n",
    "cost = tf.reduce_mean(\\\n",
    "                tf.nn.softmax_cross_entropy_with_logits(labels=one_hot_y,\n",
    "                                                    logits=logits))\n",
    "optimizer = tf.train.AdamOptimizer(learning_rate=rate).minimize(cost)\n"
   ]
  },
  {
   "cell_type": "code",
   "execution_count": 24,
   "metadata": {
    "collapsed": true
   },
   "outputs": [],
   "source": [
    "correct_prediction = tf.equal(tf.argmax(logits, 1), tf.argmax(one_hot_y, 1))\n",
    "accuracy_operation = tf.reduce_mean(tf.cast(correct_prediction, tf.float32))\n",
    "saver = tf.train.Saver()\n",
    "\n",
    "def evaluate(X_data, y_data):\n",
    "    num_examples = len(X_data)\n",
    "    total_accuracy = 0\n",
    "    sess = tf.get_default_session()\n",
    "    \n",
    "    for offset in range(0, num_examples, BATCH_SIZE):\n",
    "        batch_x, batch_y = X_data[offset:offset + BATCH_SIZE], y_data[offset:offset + BATCH_SIZE]\n",
    "        accuracy = sess.run(accuracy_operation, feed_dict={x:batch_x,\n",
    "                                                          y:batch_y,\n",
    "                                                          keep_prob: 1.0})\n",
    "        total_accuracy += (accuracy * len(batch_x))\n",
    "    \n",
    "    return total_accuracy / num_examples"
   ]
  },
  {
   "cell_type": "code",
   "execution_count": 26,
   "metadata": {
    "scrolled": true
   },
   "outputs": [
    {
     "name": "stdout",
     "output_type": "stream",
     "text": [
      "EPOCH 1....\n",
      "Validation Accuracy = 0.970\n",
      "\n",
      "EPOCH 2....\n",
      "Validation Accuracy = 0.971\n",
      "\n",
      "EPOCH 3....\n",
      "Validation Accuracy = 0.970\n",
      "\n",
      "EPOCH 4....\n",
      "Validation Accuracy = 0.972\n",
      "\n",
      "EPOCH 5....\n",
      "Validation Accuracy = 0.969\n",
      "\n",
      "EPOCH 6....\n",
      "Validation Accuracy = 0.972\n",
      "\n",
      "EPOCH 7....\n",
      "Validation Accuracy = 0.970\n",
      "\n",
      "EPOCH 8....\n",
      "Validation Accuracy = 0.971\n",
      "\n",
      "EPOCH 9....\n",
      "Validation Accuracy = 0.973\n",
      "\n",
      "EPOCH 10....\n",
      "Validation Accuracy = 0.968\n",
      "\n",
      "EPOCH 11....\n",
      "Validation Accuracy = 0.976\n",
      "\n",
      "EPOCH 12....\n",
      "Validation Accuracy = 0.972\n",
      "\n",
      "EPOCH 13....\n",
      "Validation Accuracy = 0.970\n",
      "\n",
      "EPOCH 14....\n",
      "Validation Accuracy = 0.972\n",
      "\n",
      "EPOCH 15....\n",
      "Validation Accuracy = 0.970\n",
      "\n",
      "EPOCH 16....\n",
      "Validation Accuracy = 0.972\n",
      "\n",
      "EPOCH 17....\n",
      "Validation Accuracy = 0.973\n",
      "\n",
      "EPOCH 18....\n",
      "Validation Accuracy = 0.972\n",
      "\n",
      "EPOCH 19....\n",
      "Validation Accuracy = 0.971\n",
      "\n",
      "EPOCH 20....\n",
      "Validation Accuracy = 0.969\n",
      "\n",
      "EPOCH 21....\n",
      "Validation Accuracy = 0.972\n",
      "\n",
      "EPOCH 22....\n",
      "Validation Accuracy = 0.972\n",
      "\n",
      "EPOCH 23....\n",
      "Validation Accuracy = 0.971\n",
      "\n",
      "EPOCH 24....\n",
      "Validation Accuracy = 0.970\n",
      "\n",
      "EPOCH 25....\n",
      "Validation Accuracy = 0.974\n",
      "\n",
      "EPOCH 26....\n",
      "Validation Accuracy = 0.975\n",
      "\n",
      "EPOCH 27....\n",
      "Validation Accuracy = 0.971\n",
      "\n",
      "EPOCH 28....\n",
      "Validation Accuracy = 0.976\n",
      "\n",
      "EPOCH 29....\n",
      "Validation Accuracy = 0.972\n",
      "\n",
      "EPOCH 30....\n",
      "Validation Accuracy = 0.973\n",
      "\n",
      "Model saved\n"
     ]
    }
   ],
   "source": [
    "#train the model\n",
    "with tf.Session() as sess:\n",
    "    saver.restore(sess, './lenet-max-datax20')\n",
    "    num_examples = len(X_train_final)\n",
    "    \n",
    "    for epoch in range(30):\n",
    "        X_train_final, y_train_final = shuffle(X_train_final, y_train_final)\n",
    "        for offset in range(0, num_examples, BATCH_SIZE):\n",
    "            batch_x, batch_y = X_train_final[offset:offset+BATCH_SIZE], y_train_final[offset:offset+BATCH_SIZE]\n",
    "            sess.run(optimizer, feed_dict={x:batch_x,\n",
    "                                          y:batch_y,\n",
    "                                          keep_prob: 0.5})\n",
    "            \n",
    "        validation_accuracy = evaluate(X_valid_final, y_valid)\n",
    "        print(\"EPOCH {}....\".format(epoch+1))\n",
    "        print(\"Validation Accuracy = {:.3f}\".format(validation_accuracy))\n",
    "        print()\n",
    "            \n",
    "    saver.save(sess, './lenet-max-datax20')\n",
    "    print(\"Model saved\")\n",
    "    "
   ]
  },
  {
   "cell_type": "code",
   "execution_count": null,
   "metadata": {
    "collapsed": true
   },
   "outputs": [],
   "source": [
    "with tf.Session() as sess:\n",
    "    saver.restore(sess, tf.train.latest_checkpoint('.'))\n",
    "\n",
    "    test_accuracy = evaluate(X_test_final, y_test)\n",
    "    print(\"Test Accuracy = {:.3f}\".format(test_accuracy))"
   ]
  },
  {
   "cell_type": "markdown",
   "metadata": {},
   "source": [
    "---\n",
    "\n",
    "## Step 3: Test a Model on New Images\n",
    "\n",
    "To give yourself more insight into how your model is working, download at least five pictures of German traffic signs from the web and use your model to predict the traffic sign type.\n",
    "\n",
    "You may find `signnames.csv` useful as it contains mappings from the class id (integer) to the actual sign name."
   ]
  },
  {
   "cell_type": "markdown",
   "metadata": {},
   "source": [
    "### Load and Output the Images"
   ]
  },
  {
   "cell_type": "code",
   "execution_count": null,
   "metadata": {
    "collapsed": true
   },
   "outputs": [],
   "source": [
    "import os\n",
    "from PIL import Image\n",
    "\n",
    "import random\n",
    "import matplotlib.pyplot as plt\n",
    "# Visualizations will be shown in the notebook.\n",
    "%matplotlib inline\n",
    "\n",
    "image_list = os.listdir('new-signs/')\n",
    "resized_images = []\n",
    "fig = plt.figure(figsize=(20, 20))\n",
    "\n",
    "columns = 2\n",
    "rows = (len(image_list)/columns) + 1\n",
    "\n",
    "for i, image_name in enumerate(image_list, 1):\n",
    "    image = Image.open('new-signs/' + image_name)\n",
    "    resized_image = image.resize((32, 32), Image.ANTIALIAS)\n",
    "    resized_images.append(resized_image)\n",
    "    fig.add_subplot(rows, columns, i)\n",
    "    plt.imshow(image)\n",
    "    plt.xlabel(image_name)\n",
    "plt.show()"
   ]
  },
  {
   "cell_type": "code",
   "execution_count": 31,
   "metadata": {},
   "outputs": [
    {
     "ename": "NameError",
     "evalue": "name 'resized_images' is not defined",
     "output_type": "error",
     "traceback": [
      "\u001b[0;31m---------------------------------------------------------------------------\u001b[0m",
      "\u001b[0;31mNameError\u001b[0m                                 Traceback (most recent call last)",
      "\u001b[0;32m<ipython-input-31-8be684f0b756>\u001b[0m in \u001b[0;36m<module>\u001b[0;34m()\u001b[0m\n\u001b[1;32m      4\u001b[0m \u001b[0;34m\u001b[0m\u001b[0m\n\u001b[1;32m      5\u001b[0m \u001b[0mcolumns\u001b[0m \u001b[0;34m=\u001b[0m \u001b[0;36m2\u001b[0m\u001b[0;34m\u001b[0m\u001b[0m\n\u001b[0;32m----> 6\u001b[0;31m \u001b[0mrows\u001b[0m \u001b[0;34m=\u001b[0m \u001b[0;34m(\u001b[0m\u001b[0mlen\u001b[0m\u001b[0;34m(\u001b[0m\u001b[0mresized_images\u001b[0m\u001b[0;34m)\u001b[0m\u001b[0;34m/\u001b[0m\u001b[0mcolumns\u001b[0m\u001b[0;34m)\u001b[0m \u001b[0;34m+\u001b[0m \u001b[0;36m1\u001b[0m\u001b[0;34m\u001b[0m\u001b[0m\n\u001b[0m\u001b[1;32m      7\u001b[0m \u001b[0;32mfor\u001b[0m \u001b[0mi\u001b[0m\u001b[0;34m,\u001b[0m \u001b[0mresized_image\u001b[0m \u001b[0;32min\u001b[0m \u001b[0menumerate\u001b[0m\u001b[0;34m(\u001b[0m\u001b[0mresized_images\u001b[0m\u001b[0;34m,\u001b[0m \u001b[0;36m1\u001b[0m\u001b[0;34m)\u001b[0m\u001b[0;34m:\u001b[0m\u001b[0;34m\u001b[0m\u001b[0m\n\u001b[1;32m      8\u001b[0m     \u001b[0mfig\u001b[0m\u001b[0;34m.\u001b[0m\u001b[0madd_subplot\u001b[0m\u001b[0;34m(\u001b[0m\u001b[0mrows\u001b[0m\u001b[0;34m,\u001b[0m \u001b[0mcolumns\u001b[0m\u001b[0;34m,\u001b[0m \u001b[0mi\u001b[0m\u001b[0;34m)\u001b[0m\u001b[0;34m\u001b[0m\u001b[0m\n",
      "\u001b[0;31mNameError\u001b[0m: name 'resized_images' is not defined"
     ]
    },
    {
     "data": {
      "text/plain": [
       "<matplotlib.figure.Figure at 0x7f4ee4d224a8>"
      ]
     },
     "metadata": {},
     "output_type": "display_data"
    }
   ],
   "source": [
    "#the first step would be to resize the images to 32x32, which we did while opening the image\n",
    "#plotting the resized images\n",
    "fig = plt.figure(figsize=(10, 10))\n",
    "\n",
    "columns = 2\n",
    "rows = (len(resized_images)/columns) + 1\n",
    "for i, resized_image in enumerate(resized_images, 1):\n",
    "    fig.add_subplot(rows, columns, i)\n",
    "    plt.imshow(resized_image)\n",
    "    plt.xlabel(image_list[i - 1])\n",
    "plt.show()"
   ]
  },
  {
   "cell_type": "markdown",
   "metadata": {},
   "source": [
    "### Predict the Sign Type for Each Image"
   ]
  },
  {
   "cell_type": "code",
   "execution_count": null,
   "metadata": {
    "collapsed": true
   },
   "outputs": [],
   "source": [
    "#convert pil images to numpy array\n",
    "import numpy as np\n",
    "\n",
    "for i in range(len(resized_images)):\n",
    "    resized_images[i] = np.array(resized_images[i])"
   ]
  },
  {
   "cell_type": "code",
   "execution_count": null,
   "metadata": {
    "collapsed": true
   },
   "outputs": [],
   "source": [
    "resized_images_final[0].shape"
   ]
  },
  {
   "cell_type": "code",
   "execution_count": null,
   "metadata": {
    "collapsed": true
   },
   "outputs": [],
   "source": [
    "import scipy\n",
    "import scipy.misc\n",
    "from PIL import Image\n",
    "\n",
    "\n",
    "def global_contrast_normalization(images, s, lmda, epsilon):\n",
    "    normalized_images = []\n",
    "    for i in range(len(images)):\n",
    "        \n",
    "        # replacement for the loop\n",
    "        X_average = np.mean(images[i])\n",
    "#         print('Mean: ', X_average)\n",
    "        X = images[i] - X_average\n",
    "\n",
    "        # `su` is here the mean, instead of the sum\n",
    "        contrast = np.sqrt(lmda + np.mean(X**2))\n",
    "\n",
    "        X = s * X / max(contrast, epsilon)\n",
    "        normalized_images.append(X)\n",
    "    return normalized_images\n",
    "    # scipy can handle it\n",
    "    \n"
   ]
  },
  {
   "cell_type": "code",
   "execution_count": null,
   "metadata": {
    "collapsed": true
   },
   "outputs": [],
   "source": [
    "import numpy as np\n",
    "\n",
    "image_labels = [14, 12, 21, 25, 11]\n",
    "\n",
    "\n",
    "resized_images_final = single_channel(resized_images, 'Y')\n",
    "# resized_images_final = global_contrast_normalization(resized_images_final, 1, 10, 0.000000001)\n",
    "resized_images_final = normalize(resized_images_final)\n",
    "\n",
    "\n",
    "#plot pre-processed images images\n",
    "fig = plt.figure(figsize=(10, 10))\n",
    "\n",
    "columns = 2\n",
    "rows = (len(resized_images_final)/columns) + 1\n",
    "for i, resized_image in enumerate(resized_images_final, 1):\n",
    "    fig.add_subplot(rows, columns, i)\n",
    "    plt.imshow(resized_image.squeeze(), cmap=\"gray\")\n",
    "    plt.xlabel(image_list[i - 1])\n",
    "plt.show()"
   ]
  },
  {
   "cell_type": "code",
   "execution_count": null,
   "metadata": {
    "collapsed": true
   },
   "outputs": [],
   "source": [
    "predictions = tf.argmax(logits, 1)\n",
    "\n",
    "with tf.Session() as sess:\n",
    "    saver.restore(sess, tf.train.latest_checkpoint('.'))\n",
    "    model_predictions = sess.run(predictions, feed_dict = { x: resized_images_final,\n",
    "                                                            y: image_labels,\n",
    "                                                            keep_prob: 1.0})\n",
    "    print(model_predictions)"
   ]
  },
  {
   "cell_type": "markdown",
   "metadata": {},
   "source": [
    "### Analyze Performance"
   ]
  },
  {
   "cell_type": "code",
   "execution_count": null,
   "metadata": {
    "collapsed": true
   },
   "outputs": [],
   "source": [
    "### Calculate the accuracy for these 5 new images. \n",
    "### For example, if the model predicted 1 out of 5 signs correctly, it's 20% accurate on these new images.\n",
    "with tf.Session() as sess:\n",
    "    saver.restore(sess, tf.train.latest_checkpoint('.'))\n",
    "\n",
    "    new_test_accuracy = evaluate(resized_images_final, image_labels)\n",
    "    print(\"Test Accuracy = {:.3f}\".format(new_test_accuracy))"
   ]
  },
  {
   "cell_type": "markdown",
   "metadata": {},
   "source": [
    "### Output Top 5 Softmax Probabilities For Each Image Found on the Web"
   ]
  },
  {
   "cell_type": "markdown",
   "metadata": {},
   "source": [
    "For each of the new images, print out the model's softmax probabilities to show the **certainty** of the model's predictions (limit the output to the top 5 probabilities for each image). [`tf.nn.top_k`](https://www.tensorflow.org/versions/r0.12/api_docs/python/nn.html#top_k) could prove helpful here. \n",
    "\n",
    "The example below demonstrates how tf.nn.top_k can be used to find the top k predictions for each image.\n",
    "\n",
    "`tf.nn.top_k` will return the values and indices (class ids) of the top k predictions. So if k=3, for each sign, it'll return the 3 largest probabilities (out of a possible 43) and the correspoding class ids.\n",
    "\n",
    "Take this numpy array as an example. The values in the array represent predictions. The array contains softmax probabilities for five candidate images with six possible classes. `tf.nn.top_k` is used to choose the three classes with the highest probability:\n",
    "\n",
    "```\n",
    "# (5, 6) array\n",
    "a = np.array([[ 0.24879643,  0.07032244,  0.12641572,  0.34763842,  0.07893497,\n",
    "         0.12789202],\n",
    "       [ 0.28086119,  0.27569815,  0.08594638,  0.0178669 ,  0.18063401,\n",
    "         0.15899337],\n",
    "       [ 0.26076848,  0.23664738,  0.08020603,  0.07001922,  0.1134371 ,\n",
    "         0.23892179],\n",
    "       [ 0.11943333,  0.29198961,  0.02605103,  0.26234032,  0.1351348 ,\n",
    "         0.16505091],\n",
    "       [ 0.09561176,  0.34396535,  0.0643941 ,  0.16240774,  0.24206137,\n",
    "         0.09155967]])\n",
    "```\n",
    "\n",
    "Running it through `sess.run(tf.nn.top_k(tf.constant(a), k=3))` produces:\n",
    "\n",
    "```\n",
    "TopKV2(values=array([[ 0.34763842,  0.24879643,  0.12789202],\n",
    "       [ 0.28086119,  0.27569815,  0.18063401],\n",
    "       [ 0.26076848,  0.23892179,  0.23664738],\n",
    "       [ 0.29198961,  0.26234032,  0.16505091],\n",
    "       [ 0.34396535,  0.24206137,  0.16240774]]), indices=array([[3, 0, 5],\n",
    "       [0, 1, 4],\n",
    "       [0, 5, 1],\n",
    "       [1, 3, 5],\n",
    "       [1, 4, 3]], dtype=int32))\n",
    "```\n",
    "\n",
    "Looking just at the first row we get `[ 0.34763842,  0.24879643,  0.12789202]`, you can confirm these are the 3 largest probabilities in `a`. You'll also notice `[3, 0, 5]` are the corresponding indices."
   ]
  },
  {
   "cell_type": "code",
   "execution_count": null,
   "metadata": {
    "collapsed": true
   },
   "outputs": [],
   "source": [
    "### Print out the top five softmax probabilities for the predictions on the German traffic sign images found on the web. \n",
    "### Feel free to use as many code cells as needed.\n",
    "softmax_probs = tf.nn.softmax(logits)\n",
    "\n",
    "with tf.Session() as sess:\n",
    "    saver.restore(sess, tf.train.latest_checkpoint('.'))\n",
    "    softmax_pred = sess.run(softmax_probs, feed_dict = { x: resized_images_final,\n",
    "                                                            y: image_labels,\n",
    "                                                            keep_prob: 1.0} )\n",
    "    top_5_preds = sess.run(tf.nn.top_k(tf.constant(softmax_pred), k=5))\n",
    "    print(top_5_preds)"
   ]
  },
  {
   "cell_type": "markdown",
   "metadata": {},
   "source": [
    "### Project Writeup\n",
    "\n",
    "Once you have completed the code implementation, document your results in a project writeup using this [template](https://github.com/udacity/CarND-Traffic-Sign-Classifier-Project/blob/master/writeup_template.md) as a guide. The writeup can be in a markdown or pdf file. "
   ]
  },
  {
   "cell_type": "markdown",
   "metadata": {},
   "source": [
    "> **Note**: Once you have completed all of the code implementations and successfully answered each question above, you may finalize your work by exporting the iPython Notebook as an HTML document. You can do this by using the menu above and navigating to  \\n\",\n",
    "    \"**File -> Download as -> HTML (.html)**. Include the finished document along with this notebook as your submission."
   ]
  },
  {
   "cell_type": "markdown",
   "metadata": {},
   "source": [
    "---\n",
    "\n",
    "## Step 4 (Optional): Visualize the Neural Network's State with Test Images\n",
    "\n",
    " This Section is not required to complete but acts as an additional excersise for understaning the output of a neural network's weights. While neural networks can be a great learning device they are often referred to as a black box. We can understand what the weights of a neural network look like better by plotting their feature maps. After successfully training your neural network you can see what it's feature maps look like by plotting the output of the network's weight layers in response to a test stimuli image. From these plotted feature maps, it's possible to see what characteristics of an image the network finds interesting. For a sign, maybe the inner network feature maps react with high activation to the sign's boundary outline or to the contrast in the sign's painted symbol.\n",
    "\n",
    " Provided for you below is the function code that allows you to get the visualization output of any tensorflow weight layer you want. The inputs to the function should be a stimuli image, one used during training or a new one you provided, and then the tensorflow variable name that represents the layer's state during the training process, for instance if you wanted to see what the [LeNet lab's](https://classroom.udacity.com/nanodegrees/nd013/parts/fbf77062-5703-404e-b60c-95b78b2f3f9e/modules/6df7ae49-c61c-4bb2-a23e-6527e69209ec/lessons/601ae704-1035-4287-8b11-e2c2716217ad/concepts/d4aca031-508f-4e0b-b493-e7b706120f81) feature maps looked like for it's second convolutional layer you could enter conv2 as the tf_activation variable.\n",
    "\n",
    "For an example of what feature map outputs look like, check out NVIDIA's results in their paper [End-to-End Deep Learning for Self-Driving Cars](https://devblogs.nvidia.com/parallelforall/deep-learning-self-driving-cars/) in the section Visualization of internal CNN State. NVIDIA was able to show that their network's inner weights had high activations to road boundary lines by comparing feature maps from an image with a clear path to one without. Try experimenting with a similar test to show that your trained network's weights are looking for interesting features, whether it's looking at differences in feature maps from images with or without a sign, or even what feature maps look like in a trained network vs a completely untrained one on the same sign image.\n",
    "\n",
    "<figure>\n",
    " <img src=\"visualize_cnn.png\" width=\"380\" alt=\"Combined Image\" />\n",
    " <figcaption>\n",
    " <p></p> \n",
    " <p style=\"text-align: center;\"> Your output should look something like this (above)</p> \n",
    " </figcaption>\n",
    "</figure>\n",
    " <p></p> \n"
   ]
  },
  {
   "cell_type": "code",
   "execution_count": null,
   "metadata": {
    "collapsed": true
   },
   "outputs": [],
   "source": [
    "### Visualize your network's feature maps here.\n",
    "### Feel free to use as many code cells as needed.\n",
    "\n",
    "# image_input: the test image being fed into the network to produce the feature maps\n",
    "# tf_activation: should be a tf variable name used during your training procedure that represents the calculated state of a specific weight layer\n",
    "# activation_min/max: can be used to view the activation contrast in more detail, by default matplot sets min and max to the actual min and max values of the output\n",
    "# plt_num: used to plot out multiple different weight feature map sets on the same block, just extend the plt number for each new feature map entry\n",
    "\n",
    "def outputFeatureMap(image_input, tf_activation, activation_min=-1, activation_max=-1 ,plt_num=1):\n",
    "    # Here make sure to preprocess your image_input in a way your network expects\n",
    "    # with size, normalization, ect if needed\n",
    "    # image_input =\n",
    "    # Note: x should be the same name as your network's tensorflow data placeholder variable\n",
    "    # If you get an error tf_activation is not defined it may be having trouble accessing the variable from inside a function\n",
    "    activation = tf_activation.eval(session=sess,feed_dict={x : image_input})\n",
    "    featuremaps = activation.shape[3]\n",
    "    plt.figure(plt_num, figsize=(15,15))\n",
    "    for featuremap in range(featuremaps):\n",
    "        plt.subplot(6,8, featuremap+1) # sets the number of feature maps to show on each row and column\n",
    "        plt.title('FeatureMap ' + str(featuremap)) # displays the feature map number\n",
    "        if activation_min != -1 & activation_max != -1:\n",
    "            plt.imshow(activation[0,:,:, featuremap], interpolation=\"nearest\", vmin =activation_min, vmax=activation_max, cmap=\"gray\")\n",
    "        elif activation_max != -1:\n",
    "            plt.imshow(activation[0,:,:, featuremap], interpolation=\"nearest\", vmax=activation_max, cmap=\"gray\")\n",
    "        elif activation_min !=-1:\n",
    "            plt.imshow(activation[0,:,:, featuremap], interpolation=\"nearest\", vmin=activation_min, cmap=\"gray\")\n",
    "        else:\n",
    "            plt.imshow(activation[0,:,:, featuremap], interpolation=\"nearest\", cmap=\"gray\")"
   ]
  }
 ],
 "metadata": {
  "anaconda-cloud": {},
  "kernelspec": {
   "display_name": "Python 3",
   "language": "python",
   "name": "python3"
  },
  "language_info": {
   "codemirror_mode": {
    "name": "ipython",
    "version": 3
   },
   "file_extension": ".py",
   "mimetype": "text/x-python",
   "name": "python",
   "nbconvert_exporter": "python",
   "pygments_lexer": "ipython3",
   "version": "3.5.2"
  },
  "widgets": {
   "state": {},
   "version": "1.1.2"
  }
 },
 "nbformat": 4,
 "nbformat_minor": 1
}
